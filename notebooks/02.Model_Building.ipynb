{
 "cells": [
  {
   "cell_type": "code",
   "execution_count": 2,
   "id": "6e94e8cb-b253-4404-ab25-d38b3dabd1c2",
   "metadata": {},
   "outputs": [],
   "source": [
    "import numpy as np\n",
    "import pandas as pd\n",
    "import matplotlib.pyplot as plt"
   ]
  },
  {
   "cell_type": "code",
   "execution_count": 3,
   "id": "006c2de1-2a02-46ea-8084-1d8076b87646",
   "metadata": {},
   "outputs": [],
   "source": [
    "data = pd.read_csv('../artifacts/sentiment_analysis.csv')"
   ]
  },
  {
   "cell_type": "code",
   "execution_count": 4,
   "id": "e59dc112-afb9-4f2f-afc1-37aed2684bc1",
   "metadata": {},
   "outputs": [
    {
     "data": {
      "text/html": [
       "<div>\n",
       "<style scoped>\n",
       "    .dataframe tbody tr th:only-of-type {\n",
       "        vertical-align: middle;\n",
       "    }\n",
       "\n",
       "    .dataframe tbody tr th {\n",
       "        vertical-align: top;\n",
       "    }\n",
       "\n",
       "    .dataframe thead th {\n",
       "        text-align: right;\n",
       "    }\n",
       "</style>\n",
       "<table border=\"1\" class=\"dataframe\">\n",
       "  <thead>\n",
       "    <tr style=\"text-align: right;\">\n",
       "      <th></th>\n",
       "      <th>id</th>\n",
       "      <th>label</th>\n",
       "      <th>tweet</th>\n",
       "    </tr>\n",
       "  </thead>\n",
       "  <tbody>\n",
       "    <tr>\n",
       "      <th>0</th>\n",
       "      <td>1</td>\n",
       "      <td>0</td>\n",
       "      <td>#fingerprint #Pregnancy Test https://goo.gl/h1...</td>\n",
       "    </tr>\n",
       "    <tr>\n",
       "      <th>1</th>\n",
       "      <td>2</td>\n",
       "      <td>0</td>\n",
       "      <td>Finally a transparant silicon case ^^ Thanks t...</td>\n",
       "    </tr>\n",
       "    <tr>\n",
       "      <th>2</th>\n",
       "      <td>3</td>\n",
       "      <td>0</td>\n",
       "      <td>We love this! Would you go? #talk #makememorie...</td>\n",
       "    </tr>\n",
       "    <tr>\n",
       "      <th>3</th>\n",
       "      <td>4</td>\n",
       "      <td>0</td>\n",
       "      <td>I'm wired I know I'm George I was made that wa...</td>\n",
       "    </tr>\n",
       "    <tr>\n",
       "      <th>4</th>\n",
       "      <td>5</td>\n",
       "      <td>1</td>\n",
       "      <td>What amazing service! Apple won't even talk to...</td>\n",
       "    </tr>\n",
       "  </tbody>\n",
       "</table>\n",
       "</div>"
      ],
      "text/plain": [
       "   id  label                                              tweet\n",
       "0   1      0  #fingerprint #Pregnancy Test https://goo.gl/h1...\n",
       "1   2      0  Finally a transparant silicon case ^^ Thanks t...\n",
       "2   3      0  We love this! Would you go? #talk #makememorie...\n",
       "3   4      0  I'm wired I know I'm George I was made that wa...\n",
       "4   5      1  What amazing service! Apple won't even talk to..."
      ]
     },
     "execution_count": 4,
     "metadata": {},
     "output_type": "execute_result"
    }
   ],
   "source": [
    "data.head()"
   ]
  },
  {
   "cell_type": "markdown",
   "id": "7b0e20d1-8fbe-4a17-bb50-84507c17904d",
   "metadata": {},
   "source": [
    "### Data Preprocessing"
   ]
  },
  {
   "cell_type": "code",
   "execution_count": 5,
   "id": "720910ee-1661-4464-bf13-3e114b6938dc",
   "metadata": {},
   "outputs": [
    {
     "data": {
      "text/plain": [
       "(7920, 3)"
      ]
     },
     "execution_count": 5,
     "metadata": {},
     "output_type": "execute_result"
    }
   ],
   "source": [
    "data.shape"
   ]
  },
  {
   "cell_type": "code",
   "execution_count": 6,
   "id": "2849fcfc-de78-4fef-a23b-c92d3e861a40",
   "metadata": {},
   "outputs": [
    {
     "data": {
      "text/plain": [
       "np.int64(0)"
      ]
     },
     "execution_count": 6,
     "metadata": {},
     "output_type": "execute_result"
    }
   ],
   "source": [
    "data.duplicated().sum()"
   ]
  },
  {
   "cell_type": "code",
   "execution_count": 7,
   "id": "04e566ff-1a4b-4d81-868e-2de66447cdd0",
   "metadata": {},
   "outputs": [
    {
     "data": {
      "text/plain": [
       "id       0\n",
       "label    0\n",
       "tweet    0\n",
       "dtype: int64"
      ]
     },
     "execution_count": 7,
     "metadata": {},
     "output_type": "execute_result"
    }
   ],
   "source": [
    "data.isnull().sum()"
   ]
  },
  {
   "cell_type": "markdown",
   "id": "8042cd96-431d-484a-ab0d-7b0947aedf9c",
   "metadata": {},
   "source": [
    "## Text Preprocessing"
   ]
  },
  {
   "cell_type": "code",
   "execution_count": 8,
   "id": "75170d8f-a78c-408e-8e95-5dbf1cbd55c0",
   "metadata": {},
   "outputs": [],
   "source": [
    "import re\n",
    "import string"
   ]
  },
  {
   "cell_type": "code",
   "execution_count": 9,
   "id": "ea35e55b-726b-4758-866f-a3b1b3e85928",
   "metadata": {},
   "outputs": [
    {
     "data": {
      "text/plain": [
       "0    #fingerprint #Pregnancy Test https://goo.gl/h1...\n",
       "1    Finally a transparant silicon case ^^ Thanks t...\n",
       "2    We love this! Would you go? #talk #makememorie...\n",
       "3    I'm wired I know I'm George I was made that wa...\n",
       "4    What amazing service! Apple won't even talk to...\n",
       "Name: tweet, dtype: object"
      ]
     },
     "execution_count": 9,
     "metadata": {},
     "output_type": "execute_result"
    }
   ],
   "source": [
    "data[\"tweet\"].head(5)"
   ]
  },
  {
   "cell_type": "markdown",
   "id": "e88004d8-cdde-4194-b66c-b5388ffe6713",
   "metadata": {},
   "source": [
    "#### convert uppercase to lowercase"
   ]
  },
  {
   "cell_type": "code",
   "execution_count": 10,
   "id": "cf67dc06-4e45-44da-a0da-23322a0a753a",
   "metadata": {},
   "outputs": [],
   "source": [
    "data[\"tweet\"] = data[\"tweet\"].apply(lambda x: \" \".join(x.lower() for x in x.split()))"
   ]
  },
  {
   "cell_type": "code",
   "execution_count": 11,
   "id": "35a5e86e-1625-4d69-9aab-1f7fc69ad941",
   "metadata": {},
   "outputs": [
    {
     "data": {
      "text/plain": [
       "0    #fingerprint #pregnancy test https://goo.gl/h1...\n",
       "1    finally a transparant silicon case ^^ thanks t...\n",
       "2    we love this! would you go? #talk #makememorie...\n",
       "3    i'm wired i know i'm george i was made that wa...\n",
       "4    what amazing service! apple won't even talk to...\n",
       "Name: tweet, dtype: object"
      ]
     },
     "execution_count": 11,
     "metadata": {},
     "output_type": "execute_result"
    }
   ],
   "source": [
    "data[\"tweet\"].head(5)"
   ]
  },
  {
   "cell_type": "markdown",
   "id": "f28a02d3-5d11-4d44-bbb2-ec5773d5a832",
   "metadata": {},
   "source": [
    "#### remove links"
   ]
  },
  {
   "cell_type": "code",
   "execution_count": 12,
   "id": "d4db35d9-cf37-460a-a2f1-7462cfa2e062",
   "metadata": {},
   "outputs": [],
   "source": [
    "data[\"tweet\"] = data['tweet'].apply(lambda x: \" \".join(re.sub(r'^https?:\\/\\/.*[\\r\\n]*', '', x, flags=re.MULTILINE) for x in x.split()))"
   ]
  },
  {
   "cell_type": "code",
   "execution_count": 13,
   "id": "999dff3d-dcb7-490d-bd3d-b173c6b4ae3f",
   "metadata": {},
   "outputs": [
    {
     "data": {
      "text/plain": [
       "0    #fingerprint #pregnancy test  #android #apps #...\n",
       "1    finally a transparant silicon case ^^ thanks t...\n",
       "2    we love this! would you go? #talk #makememorie...\n",
       "3    i'm wired i know i'm george i was made that wa...\n",
       "4    what amazing service! apple won't even talk to...\n",
       "Name: tweet, dtype: object"
      ]
     },
     "execution_count": 13,
     "metadata": {},
     "output_type": "execute_result"
    }
   ],
   "source": [
    "data[\"tweet\"].head(5)"
   ]
  },
  {
   "cell_type": "markdown",
   "id": "03858333-cebf-456c-8c40-5de40f1219aa",
   "metadata": {},
   "source": [
    "#### Remove punctuations"
   ]
  },
  {
   "cell_type": "code",
   "execution_count": 14,
   "id": "f6d9b909-f874-487c-b2b6-b28b0b67b6f1",
   "metadata": {},
   "outputs": [
    {
     "data": {
      "text/plain": [
       "'!\"#$%&\\'()*+,-./:;<=>?@[\\\\]^_`{|}~'"
      ]
     },
     "execution_count": 14,
     "metadata": {},
     "output_type": "execute_result"
    }
   ],
   "source": [
    "string.punctuation"
   ]
  },
  {
   "cell_type": "code",
   "execution_count": 15,
   "id": "52c1edc8-76b3-4df2-974a-d380bb4e118b",
   "metadata": {},
   "outputs": [],
   "source": [
    "def remove_punctuations(text):\n",
    "    for punctuation in string.punctuation:\n",
    "        text = text.replace(punctuation, '')\n",
    "    return text\n",
    "\n",
    "data[\"tweet\"] = data[\"tweet\"].apply(remove_punctuations)"
   ]
  },
  {
   "cell_type": "code",
   "execution_count": 16,
   "id": "bcc5d8d9-c52d-4083-af4d-d2b9b640d408",
   "metadata": {},
   "outputs": [
    {
     "data": {
      "text/plain": [
       "7910    perfect match instagood applewatch red instagr...\n",
       "7911    i am completely in love with the new iphone em...\n",
       "7912    tune in turn on drop out  gtd in one app  mobi...\n",
       "7913    ok so my galaxy crashed after one day now i ha...\n",
       "7914    gain followers rt this must follow me i follow...\n",
       "7915    live out loud lol liveoutloud selfie smile son...\n",
       "7916    we would like to wish you an amazing day make ...\n",
       "7917    helping my lovely 90 year old neighbor with he...\n",
       "7918    finally got my smart pocket wifi stay connecte...\n",
       "7919    apple barcelona apple store bcn barcelona trav...\n",
       "Name: tweet, dtype: object"
      ]
     },
     "execution_count": 16,
     "metadata": {},
     "output_type": "execute_result"
    }
   ],
   "source": [
    "data[\"tweet\"].tail(10)"
   ]
  },
  {
   "cell_type": "markdown",
   "id": "d51e0dfc-4e86-4e4a-be47-3c95dacf6fa4",
   "metadata": {},
   "source": [
    "#### remove numbers"
   ]
  },
  {
   "cell_type": "code",
   "execution_count": 22,
   "id": "8c2eab6e-fd62-4897-8cfa-da90b989cba4",
   "metadata": {},
   "outputs": [],
   "source": [
    "data[\"tweet\"] = data['tweet'].str.replace(r'\\d+', '', regex=True)"
   ]
  },
  {
   "cell_type": "code",
   "execution_count": 18,
   "id": "10aec025-ffec-457c-9dc7-ab5dc13a27fd",
   "metadata": {},
   "outputs": [
    {
     "data": {
      "text/plain": [
       "7910    perfect match instagood applewatch red instagr...\n",
       "7911    i am completely in love with the new iphone em...\n",
       "7912    tune in turn on drop out  gtd in one app  mobi...\n",
       "7913    ok so my galaxy crashed after one day now i ha...\n",
       "7914    gain followers rt this must follow me i follow...\n",
       "7915    live out loud lol liveoutloud selfie smile son...\n",
       "7916    we would like to wish you an amazing day make ...\n",
       "7917    helping my lovely  year old neighbor with her ...\n",
       "7918    finally got my smart pocket wifi stay connecte...\n",
       "7919    apple barcelona apple store bcn barcelona trav...\n",
       "Name: tweet, dtype: object"
      ]
     },
     "execution_count": 18,
     "metadata": {},
     "output_type": "execute_result"
    }
   ],
   "source": [
    "data[\"tweet\"].tail(10)"
   ]
  },
  {
   "cell_type": "markdown",
   "id": "b99304f9-cb13-4a50-b45e-f9788db5854a",
   "metadata": {},
   "source": [
    "#### remove stopwords"
   ]
  },
  {
   "cell_type": "code",
   "execution_count": 21,
   "id": "f178b26a-115c-4820-baff-669670ad8551",
   "metadata": {},
   "outputs": [
    {
     "name": "stdout",
     "output_type": "stream",
     "text": [
      "Requirement already satisfied: nltk in c:\\users\\kusha\\onedrive\\desktop\\sentiment_analysis_project\\env\\lib\\site-packages (3.8.1)\n",
      "Requirement already satisfied: click in c:\\users\\kusha\\onedrive\\desktop\\sentiment_analysis_project\\env\\lib\\site-packages (from nltk) (8.1.7)\n",
      "Requirement already satisfied: joblib in c:\\users\\kusha\\onedrive\\desktop\\sentiment_analysis_project\\env\\lib\\site-packages (from nltk) (1.4.2)\n",
      "Requirement already satisfied: regex>=2021.8.3 in c:\\users\\kusha\\onedrive\\desktop\\sentiment_analysis_project\\env\\lib\\site-packages (from nltk) (2024.5.15)\n",
      "Requirement already satisfied: tqdm in c:\\users\\kusha\\onedrive\\desktop\\sentiment_analysis_project\\env\\lib\\site-packages (from nltk) (4.66.4)\n",
      "Requirement already satisfied: colorama in c:\\users\\kusha\\onedrive\\desktop\\sentiment_analysis_project\\env\\lib\\site-packages (from click->nltk) (0.4.6)\n"
     ]
    }
   ],
   "source": [
    "!pip install nltk"
   ]
  },
  {
   "cell_type": "code",
   "execution_count": 22,
   "id": "158a0957-af4e-43a7-96ae-cc859d536e25",
   "metadata": {},
   "outputs": [],
   "source": [
    "import nltk"
   ]
  },
  {
   "cell_type": "code",
   "execution_count": 23,
   "id": "89ade669-df22-4b16-858f-2b8179061be5",
   "metadata": {},
   "outputs": [
    {
     "name": "stderr",
     "output_type": "stream",
     "text": [
      "[nltk_data] Downloading package stopwords to ../static/model...\n",
      "[nltk_data]   Package stopwords is already up-to-date!\n"
     ]
    },
    {
     "data": {
      "text/plain": [
       "True"
      ]
     },
     "execution_count": 23,
     "metadata": {},
     "output_type": "execute_result"
    }
   ],
   "source": [
    "nltk.download('stopwords', download_dir='../static/model')"
   ]
  },
  {
   "cell_type": "code",
   "execution_count": 24,
   "id": "00a86d81-522f-42e7-bf21-6ca5588cfe99",
   "metadata": {},
   "outputs": [],
   "source": [
    "with open('../static/model/corpora/stopwords/english', 'r') as file:\n",
    "    sw = file.read().splitlines()"
   ]
  },
  {
   "cell_type": "code",
   "execution_count": 25,
   "id": "e7574bc2-f57f-4442-884b-b290741f1fc0",
   "metadata": {},
   "outputs": [
    {
     "data": {
      "text/plain": [
       "['i',\n",
       " 'me',\n",
       " 'my',\n",
       " 'myself',\n",
       " 'we',\n",
       " 'our',\n",
       " 'ours',\n",
       " 'ourselves',\n",
       " 'you',\n",
       " \"you're\",\n",
       " \"you've\",\n",
       " \"you'll\",\n",
       " \"you'd\",\n",
       " 'your',\n",
       " 'yours',\n",
       " 'yourself',\n",
       " 'yourselves',\n",
       " 'he',\n",
       " 'him',\n",
       " 'his',\n",
       " 'himself',\n",
       " 'she',\n",
       " \"she's\",\n",
       " 'her',\n",
       " 'hers',\n",
       " 'herself',\n",
       " 'it',\n",
       " \"it's\",\n",
       " 'its',\n",
       " 'itself',\n",
       " 'they',\n",
       " 'them',\n",
       " 'their',\n",
       " 'theirs',\n",
       " 'themselves',\n",
       " 'what',\n",
       " 'which',\n",
       " 'who',\n",
       " 'whom',\n",
       " 'this',\n",
       " 'that',\n",
       " \"that'll\",\n",
       " 'these',\n",
       " 'those',\n",
       " 'am',\n",
       " 'is',\n",
       " 'are',\n",
       " 'was',\n",
       " 'were',\n",
       " 'be',\n",
       " 'been',\n",
       " 'being',\n",
       " 'have',\n",
       " 'has',\n",
       " 'had',\n",
       " 'having',\n",
       " 'do',\n",
       " 'does',\n",
       " 'did',\n",
       " 'doing',\n",
       " 'a',\n",
       " 'an',\n",
       " 'the',\n",
       " 'and',\n",
       " 'but',\n",
       " 'if',\n",
       " 'or',\n",
       " 'because',\n",
       " 'as',\n",
       " 'until',\n",
       " 'while',\n",
       " 'of',\n",
       " 'at',\n",
       " 'by',\n",
       " 'for',\n",
       " 'with',\n",
       " 'about',\n",
       " 'against',\n",
       " 'between',\n",
       " 'into',\n",
       " 'through',\n",
       " 'during',\n",
       " 'before',\n",
       " 'after',\n",
       " 'above',\n",
       " 'below',\n",
       " 'to',\n",
       " 'from',\n",
       " 'up',\n",
       " 'down',\n",
       " 'in',\n",
       " 'out',\n",
       " 'on',\n",
       " 'off',\n",
       " 'over',\n",
       " 'under',\n",
       " 'again',\n",
       " 'further',\n",
       " 'then',\n",
       " 'once',\n",
       " 'here',\n",
       " 'there',\n",
       " 'when',\n",
       " 'where',\n",
       " 'why',\n",
       " 'how',\n",
       " 'all',\n",
       " 'any',\n",
       " 'both',\n",
       " 'each',\n",
       " 'few',\n",
       " 'more',\n",
       " 'most',\n",
       " 'other',\n",
       " 'some',\n",
       " 'such',\n",
       " 'no',\n",
       " 'nor',\n",
       " 'not',\n",
       " 'only',\n",
       " 'own',\n",
       " 'same',\n",
       " 'so',\n",
       " 'than',\n",
       " 'too',\n",
       " 'very',\n",
       " 's',\n",
       " 't',\n",
       " 'can',\n",
       " 'will',\n",
       " 'just',\n",
       " 'don',\n",
       " \"don't\",\n",
       " 'should',\n",
       " \"should've\",\n",
       " 'now',\n",
       " 'd',\n",
       " 'll',\n",
       " 'm',\n",
       " 'o',\n",
       " 're',\n",
       " 've',\n",
       " 'y',\n",
       " 'ain',\n",
       " 'aren',\n",
       " \"aren't\",\n",
       " 'couldn',\n",
       " \"couldn't\",\n",
       " 'didn',\n",
       " \"didn't\",\n",
       " 'doesn',\n",
       " \"doesn't\",\n",
       " 'hadn',\n",
       " \"hadn't\",\n",
       " 'hasn',\n",
       " \"hasn't\",\n",
       " 'haven',\n",
       " \"haven't\",\n",
       " 'isn',\n",
       " \"isn't\",\n",
       " 'ma',\n",
       " 'mightn',\n",
       " \"mightn't\",\n",
       " 'mustn',\n",
       " \"mustn't\",\n",
       " 'needn',\n",
       " \"needn't\",\n",
       " 'shan',\n",
       " \"shan't\",\n",
       " 'shouldn',\n",
       " \"shouldn't\",\n",
       " 'wasn',\n",
       " \"wasn't\",\n",
       " 'weren',\n",
       " \"weren't\",\n",
       " 'won',\n",
       " \"won't\",\n",
       " 'wouldn',\n",
       " \"wouldn't\"]"
      ]
     },
     "execution_count": 25,
     "metadata": {},
     "output_type": "execute_result"
    }
   ],
   "source": [
    "sw"
   ]
  },
  {
   "cell_type": "code",
   "execution_count": 26,
   "id": "aea3fe71-4d67-4a53-b1fa-a0456f1c34c8",
   "metadata": {},
   "outputs": [],
   "source": [
    "data[\"tweet\"] = data[\"tweet\"].apply(lambda x: \" \".join(x for x in x.split() if x not in sw))"
   ]
  },
  {
   "cell_type": "code",
   "execution_count": 27,
   "id": "379f9119-2a86-4975-bc4f-2dfdd0af0a3a",
   "metadata": {},
   "outputs": [
    {
     "data": {
      "text/plain": [
       "0    fingerprint pregnancy test android apps beauti...\n",
       "1    finally transparant silicon case thanks uncle ...\n",
       "2    love would go talk makememories unplug relax i...\n",
       "3    im wired know im george made way iphone cute d...\n",
       "4    amazing service apple wont even talk question ...\n",
       "Name: tweet, dtype: object"
      ]
     },
     "execution_count": 27,
     "metadata": {},
     "output_type": "execute_result"
    }
   ],
   "source": [
    "data[\"tweet\"].head()"
   ]
  },
  {
   "cell_type": "markdown",
   "id": "6be91d66-e7e7-4a99-9bc5-46b3d57e9f2c",
   "metadata": {},
   "source": [
    "#### Stemming"
   ]
  },
  {
   "cell_type": "code",
   "execution_count": 28,
   "id": "c7cc06c5-4f22-4124-a1df-79a8c81e1fb2",
   "metadata": {},
   "outputs": [],
   "source": [
    "from nltk.stem import PorterStemmer\n",
    "ps = PorterStemmer()"
   ]
  },
  {
   "cell_type": "code",
   "execution_count": 29,
   "id": "108c47f4-8d58-4719-b8ee-24919d50eb64",
   "metadata": {},
   "outputs": [
    {
     "data": {
      "text/plain": [
       "0    fingerprint pregnancy test android apps beauti...\n",
       "1    finally transparant silicon case thanks uncle ...\n",
       "2    love would go talk makememories unplug relax i...\n",
       "3    im wired know im george made way iphone cute d...\n",
       "4    amazing service apple wont even talk question ...\n",
       "Name: tweet, dtype: object"
      ]
     },
     "execution_count": 29,
     "metadata": {},
     "output_type": "execute_result"
    }
   ],
   "source": [
    "data[\"tweet\"].head()"
   ]
  },
  {
   "cell_type": "code",
   "execution_count": 30,
   "id": "f4e2edac-e065-445f-92b5-6b8f674d45cd",
   "metadata": {},
   "outputs": [
    {
     "data": {
      "text/html": [
       "<div>\n",
       "<style scoped>\n",
       "    .dataframe tbody tr th:only-of-type {\n",
       "        vertical-align: middle;\n",
       "    }\n",
       "\n",
       "    .dataframe tbody tr th {\n",
       "        vertical-align: top;\n",
       "    }\n",
       "\n",
       "    .dataframe thead th {\n",
       "        text-align: right;\n",
       "    }\n",
       "</style>\n",
       "<table border=\"1\" class=\"dataframe\">\n",
       "  <thead>\n",
       "    <tr style=\"text-align: right;\">\n",
       "      <th></th>\n",
       "      <th>id</th>\n",
       "      <th>label</th>\n",
       "      <th>tweet</th>\n",
       "    </tr>\n",
       "  </thead>\n",
       "  <tbody>\n",
       "    <tr>\n",
       "      <th>0</th>\n",
       "      <td>1</td>\n",
       "      <td>0</td>\n",
       "      <td>fingerprint pregnancy test android apps beauti...</td>\n",
       "    </tr>\n",
       "    <tr>\n",
       "      <th>1</th>\n",
       "      <td>2</td>\n",
       "      <td>0</td>\n",
       "      <td>finally transparant silicon case thanks uncle ...</td>\n",
       "    </tr>\n",
       "    <tr>\n",
       "      <th>2</th>\n",
       "      <td>3</td>\n",
       "      <td>0</td>\n",
       "      <td>love would go talk makememories unplug relax i...</td>\n",
       "    </tr>\n",
       "    <tr>\n",
       "      <th>3</th>\n",
       "      <td>4</td>\n",
       "      <td>0</td>\n",
       "      <td>im wired know im george made way iphone cute d...</td>\n",
       "    </tr>\n",
       "    <tr>\n",
       "      <th>4</th>\n",
       "      <td>5</td>\n",
       "      <td>1</td>\n",
       "      <td>amazing service apple wont even talk question ...</td>\n",
       "    </tr>\n",
       "    <tr>\n",
       "      <th>...</th>\n",
       "      <td>...</td>\n",
       "      <td>...</td>\n",
       "      <td>...</td>\n",
       "    </tr>\n",
       "    <tr>\n",
       "      <th>7915</th>\n",
       "      <td>7916</td>\n",
       "      <td>0</td>\n",
       "      <td>live loud lol liveoutloud selfie smile sony mu...</td>\n",
       "    </tr>\n",
       "    <tr>\n",
       "      <th>7916</th>\n",
       "      <td>7917</td>\n",
       "      <td>0</td>\n",
       "      <td>would like wish amazing day make every minute ...</td>\n",
       "    </tr>\n",
       "    <tr>\n",
       "      <th>7917</th>\n",
       "      <td>7918</td>\n",
       "      <td>0</td>\n",
       "      <td>helping lovely year old neighbor ipad morning ...</td>\n",
       "    </tr>\n",
       "    <tr>\n",
       "      <th>7918</th>\n",
       "      <td>7919</td>\n",
       "      <td>0</td>\n",
       "      <td>finally got smart pocket wifi stay connected a...</td>\n",
       "    </tr>\n",
       "    <tr>\n",
       "      <th>7919</th>\n",
       "      <td>7920</td>\n",
       "      <td>0</td>\n",
       "      <td>apple barcelona apple store bcn barcelona trav...</td>\n",
       "    </tr>\n",
       "  </tbody>\n",
       "</table>\n",
       "<p>7920 rows × 3 columns</p>\n",
       "</div>"
      ],
      "text/plain": [
       "        id  label                                              tweet\n",
       "0        1      0  fingerprint pregnancy test android apps beauti...\n",
       "1        2      0  finally transparant silicon case thanks uncle ...\n",
       "2        3      0  love would go talk makememories unplug relax i...\n",
       "3        4      0  im wired know im george made way iphone cute d...\n",
       "4        5      1  amazing service apple wont even talk question ...\n",
       "...    ...    ...                                                ...\n",
       "7915  7916      0  live loud lol liveoutloud selfie smile sony mu...\n",
       "7916  7917      0  would like wish amazing day make every minute ...\n",
       "7917  7918      0  helping lovely year old neighbor ipad morning ...\n",
       "7918  7919      0  finally got smart pocket wifi stay connected a...\n",
       "7919  7920      0  apple barcelona apple store bcn barcelona trav...\n",
       "\n",
       "[7920 rows x 3 columns]"
      ]
     },
     "execution_count": 30,
     "metadata": {},
     "output_type": "execute_result"
    }
   ],
   "source": [
    "data"
   ]
  },
  {
   "cell_type": "markdown",
   "id": "521bd157-2167-4730-804f-5578ee5c6d5f",
   "metadata": {},
   "source": [
    "### Building Vacabulary"
   ]
  },
  {
   "cell_type": "code",
   "execution_count": 31,
   "id": "94c48ca8-aaa2-4cc0-bcde-98782ee83a96",
   "metadata": {},
   "outputs": [],
   "source": [
    "from collections import Counter\n",
    "vocab = Counter()"
   ]
  },
  {
   "cell_type": "code",
   "execution_count": 32,
   "id": "2c07440f-5490-46f6-bc42-15975e4e7020",
   "metadata": {},
   "outputs": [
    {
     "data": {
      "text/plain": [
       "Counter()"
      ]
     },
     "execution_count": 32,
     "metadata": {},
     "output_type": "execute_result"
    }
   ],
   "source": [
    "vocab"
   ]
  },
  {
   "cell_type": "code",
   "execution_count": 33,
   "id": "5c05fe73-d690-4b8a-bff0-ccbf43008e86",
   "metadata": {},
   "outputs": [],
   "source": [
    "for sentence in data['tweet']:\n",
    "    vocab.update(sentence.split())"
   ]
  },
  {
   "cell_type": "code",
   "execution_count": 34,
   "id": "eaf3f51e-7534-408c-9090-e375e9418371",
   "metadata": {},
   "outputs": [
    {
     "data": {
      "text/plain": [
       "18138"
      ]
     },
     "execution_count": 34,
     "metadata": {},
     "output_type": "execute_result"
    }
   ],
   "source": [
    "len(vocab)"
   ]
  },
  {
   "cell_type": "code",
   "execution_count": 35,
   "id": "d87e575d-3387-44ab-b585-f72bd2634c46",
   "metadata": {},
   "outputs": [
    {
     "data": {
      "text/plain": [
       "(7920, 3)"
      ]
     },
     "execution_count": 35,
     "metadata": {},
     "output_type": "execute_result"
    }
   ],
   "source": [
    "data.shape"
   ]
  },
  {
   "cell_type": "code",
   "execution_count": 36,
   "id": "9ccec6d5-bfa9-41fe-ab04-a09ca7c5d8c4",
   "metadata": {},
   "outputs": [],
   "source": [
    "tokens = [key for key in vocab if vocab[key] > 10]"
   ]
  },
  {
   "cell_type": "code",
   "execution_count": 37,
   "id": "71628fff-dadb-4bf2-8c2c-c7ebe180b042",
   "metadata": {},
   "outputs": [
    {
     "data": {
      "text/plain": [
       "['android',\n",
       " 'apps',\n",
       " 'beautiful',\n",
       " 'cute',\n",
       " 'health',\n",
       " 'igers',\n",
       " 'iphoneonly',\n",
       " 'iphonesia',\n",
       " 'iphone',\n",
       " 'finally',\n",
       " 'case',\n",
       " 'thanks',\n",
       " 'yay',\n",
       " 'sony',\n",
       " 'xperia',\n",
       " 'love',\n",
       " 'would',\n",
       " 'go',\n",
       " 'talk',\n",
       " 'relax',\n",
       " 'smartphone',\n",
       " 'wifi',\n",
       " 'connect',\n",
       " 'im',\n",
       " 'know',\n",
       " 'made',\n",
       " 'way',\n",
       " 'home',\n",
       " 'amazing',\n",
       " 'service',\n",
       " 'apple',\n",
       " 'wont',\n",
       " 'even',\n",
       " 'pay',\n",
       " 'stupid',\n",
       " 'support',\n",
       " 'software',\n",
       " 'update',\n",
       " 'fucked',\n",
       " 'phone',\n",
       " 'big',\n",
       " 'time',\n",
       " 'iphones',\n",
       " 'happy',\n",
       " 'us',\n",
       " 'instapic',\n",
       " 'instadaily',\n",
       " 'xperiaz',\n",
       " 'new',\n",
       " 'type',\n",
       " 'c',\n",
       " 'charger',\n",
       " 'cable',\n",
       " 'uk',\n",
       " '…',\n",
       " 'amazon',\n",
       " 'year',\n",
       " 'newyear',\n",
       " 'starting',\n",
       " 'technology',\n",
       " 'samsunggalaxys',\n",
       " 'iphonex',\n",
       " 'shopping',\n",
       " 'listening',\n",
       " 'music',\n",
       " 'likeforlike',\n",
       " 'photo',\n",
       " 'fun',\n",
       " 'selfie',\n",
       " 'water',\n",
       " 'camera',\n",
       " 'picoftheday',\n",
       " 'sun',\n",
       " 'instagood',\n",
       " 'boy',\n",
       " 'hey',\n",
       " 'make',\n",
       " 'ipod',\n",
       " 'dont',\n",
       " 'color',\n",
       " 'crash',\n",
       " 'every',\n",
       " 'need',\n",
       " 'really',\n",
       " 'dropped',\n",
       " 'design',\n",
       " 'giving',\n",
       " 'another',\n",
       " 'crazy',\n",
       " 'purchase',\n",
       " 'lol',\n",
       " 'work',\n",
       " 'hard',\n",
       " 'play',\n",
       " 'ipad',\n",
       " 'battery',\n",
       " 'charge',\n",
       " 'dead',\n",
       " 'saturday',\n",
       " 'summer',\n",
       " 'like',\n",
       " 'share',\n",
       " 'want',\n",
       " 'instagram',\n",
       " 'photooftheday',\n",
       " 'tweegram',\n",
       " 'reason',\n",
       " 'one',\n",
       " 'suck',\n",
       " 'truth',\n",
       " 'agree',\n",
       " 'fact',\n",
       " 'store',\n",
       " 'monday',\n",
       " 'ur',\n",
       " 'fucking',\n",
       " 'art',\n",
       " 'easter',\n",
       " 'dear',\n",
       " 'friends',\n",
       " 'face',\n",
       " 'email',\n",
       " 'pie',\n",
       " 'wife',\n",
       " 'ive',\n",
       " 'days',\n",
       " 'button',\n",
       " 'back',\n",
       " 'broke',\n",
       " 'screen',\n",
       " 'goes',\n",
       " 'completely',\n",
       " 'black',\n",
       " 'keep',\n",
       " 'getting',\n",
       " 'texts',\n",
       " 'day',\n",
       " 'cant',\n",
       " 'check',\n",
       " 'wall',\n",
       " 'galaxy',\n",
       " 'samsung',\n",
       " 'app',\n",
       " 'patent',\n",
       " 'havent',\n",
       " 'done',\n",
       " 'nothing',\n",
       " 'touch',\n",
       " 'lose',\n",
       " 'pics',\n",
       " 'someone',\n",
       " 'hateapple',\n",
       " 'flower',\n",
       " 'green',\n",
       " 'must',\n",
       " 'watch',\n",
       " 'youtube',\n",
       " 'subscribe',\n",
       " 'daily',\n",
       " 'twitch',\n",
       " 'gaming',\n",
       " 'ps',\n",
       " 'xbox',\n",
       " 'games',\n",
       " 'ios',\n",
       " 'thank',\n",
       " 'live',\n",
       " 'laugh',\n",
       " 'life',\n",
       " 'food',\n",
       " 'instago',\n",
       " 'instahub',\n",
       " 'instagram…',\n",
       " 'friendship',\n",
       " 'dog',\n",
       " 'family',\n",
       " 'goals',\n",
       " 'bestfriends',\n",
       " 'america',\n",
       " 'taken',\n",
       " 'sunset',\n",
       " 'sky',\n",
       " 'sister',\n",
       " 'bought',\n",
       " 'early',\n",
       " 'bday',\n",
       " 'gift',\n",
       " 'note',\n",
       " 'many',\n",
       " 'market',\n",
       " 'delete',\n",
       " 'songs',\n",
       " 'itunes',\n",
       " 'freaking',\n",
       " 'windows',\n",
       " 'phones',\n",
       " 'bad',\n",
       " 'cheap',\n",
       " 'tech',\n",
       " 'bull',\n",
       " 'smile',\n",
       " 'let',\n",
       " 'sunday',\n",
       " 'always',\n",
       " 'eyes',\n",
       " 'ootd',\n",
       " 'fashion',\n",
       " 'blackandwhite',\n",
       " 'film',\n",
       " 'set',\n",
       " 'video',\n",
       " 'producer',\n",
       " 'follow',\n",
       " 'movies',\n",
       " 'wallpaper',\n",
       " 'pink',\n",
       " 'sweet',\n",
       " 'sexy',\n",
       " 'week',\n",
       " 'end',\n",
       " 'iphoneplus',\n",
       " 'moment',\n",
       " 'see',\n",
       " 'photography',\n",
       " 'nature',\n",
       " 'landscape',\n",
       " 'view',\n",
       " 'tree',\n",
       " 'travel',\n",
       " 'google',\n",
       " 'cut',\n",
       " 'get',\n",
       " 'look',\n",
       " 'got',\n",
       " 'christmas',\n",
       " 'girl',\n",
       " 'instacool',\n",
       " 'free',\n",
       " 'game',\n",
       " 'appstore',\n",
       " 'joy',\n",
       " 'peace',\n",
       " 'remember',\n",
       " 'cloud',\n",
       " 'gr',\n",
       " 'iphone…',\n",
       " 'baby',\n",
       " 'pet',\n",
       " 'news',\n",
       " 'fail',\n",
       " 'funny',\n",
       " 'tablets',\n",
       " 'use',\n",
       " 'fan',\n",
       " 'think',\n",
       " 'product',\n",
       " 'friday',\n",
       " 'blackfriday',\n",
       " 'shop',\n",
       " 'holidays',\n",
       " 'gifts',\n",
       " 'newyork',\n",
       " 'business',\n",
       " 'money',\n",
       " 'birthday',\n",
       " 'tv',\n",
       " 'computer',\n",
       " 'school',\n",
       " 'seriously',\n",
       " 'going',\n",
       " 'chargers',\n",
       " 'month',\n",
       " 'good',\n",
       " 'job',\n",
       " 'actually',\n",
       " '£',\n",
       " 'thats',\n",
       " 'still',\n",
       " 'rt',\n",
       " 'sucks',\n",
       " 'droid',\n",
       " 'cool',\n",
       " 'picture',\n",
       " 'l',\n",
       " 'complete',\n",
       " 'run',\n",
       " 'beach',\n",
       " 'sport',\n",
       " 'bit',\n",
       " 'hashtag',\n",
       " 'yet',\n",
       " 'gain',\n",
       " 'followers',\n",
       " 'everyone',\n",
       " 'rts',\n",
       " 'sougofollow',\n",
       " 'ff',\n",
       " 'iphoneography',\n",
       " 'iphonephotography',\n",
       " 'mobile',\n",
       " 'colors',\n",
       " 'bright',\n",
       " 'users',\n",
       " 'dating',\n",
       " 'less',\n",
       " 'random',\n",
       " 'instamood',\n",
       " 'creative',\n",
       " 'hot',\n",
       " 'original',\n",
       " 'pop',\n",
       " 'red',\n",
       " 'rock',\n",
       " 'soul',\n",
       " 'singer',\n",
       " 'song',\n",
       " 'wedding',\n",
       " 'thought',\n",
       " 'id',\n",
       " 'lost',\n",
       " 'ipadmini',\n",
       " 'feeling',\n",
       " 'broken',\n",
       " 'replaced',\n",
       " 'happiness',\n",
       " 'light',\n",
       " 'please',\n",
       " 'indonesia',\n",
       " 'gold',\n",
       " 'potd',\n",
       " 'reset',\n",
       " 'sorry',\n",
       " 'white',\n",
       " 'tea',\n",
       " 'chilling',\n",
       " 'cover',\n",
       " 'samsunggalaxy',\n",
       " 'g',\n",
       " 'apples',\n",
       " 'came',\n",
       " 'magic',\n",
       " 'comes',\n",
       " 'followsunday',\n",
       " 'followback',\n",
       " 'teamfollowback',\n",
       " 'retweet',\n",
       " 'ya',\n",
       " 'thing',\n",
       " 'i’m',\n",
       " 'months',\n",
       " 'it’s',\n",
       " 'already',\n",
       " 'problem',\n",
       " 'issue',\n",
       " 'able',\n",
       " 'shoot',\n",
       " 'pic',\n",
       " 'photos',\n",
       " 'call',\n",
       " 'put',\n",
       " 'price',\n",
       " 'device',\n",
       " 'memory',\n",
       " '–',\n",
       " 'oh',\n",
       " 'win',\n",
       " 'playstation',\n",
       " 'gamer',\n",
       " 'something',\n",
       " 'wrong',\n",
       " 'right',\n",
       " 'today',\n",
       " 'makes',\n",
       " 'lifestyle',\n",
       " 'fuckyou',\n",
       " 'never',\n",
       " 'little',\n",
       " 'quality',\n",
       " 'girlfriend',\n",
       " 'card',\n",
       " 'z',\n",
       " 'present',\n",
       " 'mom',\n",
       " 'macbookpro',\n",
       " 'macbook',\n",
       " 'quote',\n",
       " 'quotes',\n",
       " 'words',\n",
       " 'tweetgram',\n",
       " 'customer',\n",
       " 'great',\n",
       " 'repair',\n",
       " 'hour',\n",
       " 'everything',\n",
       " 'mode',\n",
       " 'usa',\n",
       " 'company',\n",
       " 'working',\n",
       " 'features',\n",
       " 'didnt',\n",
       " 'coffee',\n",
       " 'spring',\n",
       " 'galaxynote',\n",
       " 'special',\n",
       " 'valentine',\n",
       " 'nowplaying',\n",
       " 'daughter',\n",
       " 'poem',\n",
       " 'car',\n",
       " 'lunch',\n",
       " 'park',\n",
       " 'banana',\n",
       " 'dogs',\n",
       " 'autumn',\n",
       " 'spend',\n",
       " 'much',\n",
       " 'book',\n",
       " 'say',\n",
       " 'fuck',\n",
       " 'u',\n",
       " 'took',\n",
       " 'hours',\n",
       " 'download',\n",
       " 'hate',\n",
       " 'added',\n",
       " 'twitter',\n",
       " 'n',\n",
       " 'last',\n",
       " 'mins',\n",
       " 'tmobile',\n",
       " 'come',\n",
       " 'rid',\n",
       " 'annoying',\n",
       " 'buy',\n",
       " 'full',\n",
       " 'version',\n",
       " 'mood',\n",
       " 'blog',\n",
       " 'style',\n",
       " 'bestoftheday',\n",
       " 'pretty',\n",
       " 'babe',\n",
       " 'send',\n",
       " 'turn',\n",
       " 'imessage',\n",
       " 'sleep',\n",
       " 'popular',\n",
       " 'tweet',\n",
       " 'shotoniphone',\n",
       " 'photographer',\n",
       " 'valentines',\n",
       " 'fml',\n",
       " 'nice',\n",
       " 'wait',\n",
       " 'hand',\n",
       " 'gb',\n",
       " 'first',\n",
       " 'bar',\n",
       " 'key',\n",
       " 'long',\n",
       " 'give',\n",
       " 'cold',\n",
       " 'siri',\n",
       " 'doesnt',\n",
       " 'literally',\n",
       " 'contacts',\n",
       " 'looks',\n",
       " 'available',\n",
       " 'b',\n",
       " 'laptop',\n",
       " 'vaio',\n",
       " 'blackberry',\n",
       " 'best',\n",
       " 'fruit',\n",
       " 'soon',\n",
       " 'yum',\n",
       " 'mac',\n",
       " 'updates',\n",
       " 'display',\n",
       " 'told',\n",
       " 'stop',\n",
       " 'p',\n",
       " 'three',\n",
       " 'things',\n",
       " 'gear',\n",
       " 'well',\n",
       " 'pictures',\n",
       " 'past',\n",
       " 'capetownsup',\n",
       " 'sup',\n",
       " 'surf',\n",
       " 'capetown',\n",
       " 'pro',\n",
       " 'half',\n",
       " 'stuff',\n",
       " 'arrived',\n",
       " 'excited',\n",
       " 'open',\n",
       " 'mine',\n",
       " 'keyboard',\n",
       " 'okay',\n",
       " 'though',\n",
       " 'enough',\n",
       " 'simple',\n",
       " 'colorful',\n",
       " 'th',\n",
       " 'sync',\n",
       " 'night',\n",
       " 'son',\n",
       " 'instagood…',\n",
       " 'jj',\n",
       " 'party',\n",
       " 'makeup',\n",
       " 'valentinesday',\n",
       " 'ad',\n",
       " 'february',\n",
       " 'portrait',\n",
       " 'shot',\n",
       " 'sonyalpha',\n",
       " 'mm',\n",
       " 'password',\n",
       " 'zoom',\n",
       " 'videos',\n",
       " 'deleted',\n",
       " 'single',\n",
       " 'stevejobs',\n",
       " 'yall',\n",
       " 'prophet',\n",
       " 'husband',\n",
       " 'kindle',\n",
       " 'a…',\n",
       " 'upgraded',\n",
       " 'help',\n",
       " 'children',\n",
       " 'theres',\n",
       " 'least',\n",
       " 'times',\n",
       " 'tab',\n",
       " 'real',\n",
       " 'tablet',\n",
       " 'hi',\n",
       " 'world',\n",
       " 'old',\n",
       " 'followme',\n",
       " 'samsung…',\n",
       " 'swag',\n",
       " 'cat',\n",
       " 'sick',\n",
       " 'bullshit',\n",
       " 'may',\n",
       " 'perfect',\n",
       " 'instaphoto',\n",
       " 'welcome',\n",
       " 'os',\n",
       " 'throw',\n",
       " 'lets',\n",
       " 'fast',\n",
       " 'w',\n",
       " 'fall',\n",
       " 'take',\n",
       " 'evening',\n",
       " 'two',\n",
       " 'devices',\n",
       " 'next',\n",
       " 'offer',\n",
       " 'middle',\n",
       " 'used',\n",
       " 'account',\n",
       " 'find',\n",
       " 'city',\n",
       " 'story',\n",
       " 'destiny',\n",
       " 'tweets',\n",
       " 'awesome',\n",
       " 'info',\n",
       " 'goodnight',\n",
       " 'dreams',\n",
       " 'hope',\n",
       " 'uae',\n",
       " 'lucky',\n",
       " 'deals',\n",
       " 'passion',\n",
       " 'reading',\n",
       " 'edm',\n",
       " 'whole',\n",
       " 'god',\n",
       " 'nx',\n",
       " 'beauty',\n",
       " 'updated',\n",
       " 'deal',\n",
       " 'high',\n",
       " 'usb',\n",
       " 'geek',\n",
       " 'bots',\n",
       " 'gadgets',\n",
       " 'power',\n",
       " 'pc',\n",
       " 'sprint',\n",
       " 'wish',\n",
       " 'minute',\n",
       " 'count',\n",
       " 'tls',\n",
       " 'accessories',\n",
       " 'ipads',\n",
       " 'listen',\n",
       " 'drive',\n",
       " 'nyc',\n",
       " 'loves',\n",
       " 'text',\n",
       " 'gay',\n",
       " 'ready',\n",
       " 'cellphone',\n",
       " 'space',\n",
       " 'ny',\n",
       " 'tattoo',\n",
       " 'totally',\n",
       " 'yes',\n",
       " 'via',\n",
       " 'air',\n",
       " 'fit',\n",
       " 'plus',\n",
       " 'sim',\n",
       " 'florida',\n",
       " 'sale',\n",
       " 'nokia',\n",
       " 'motorola',\n",
       " 'lg',\n",
       " 'offers',\n",
       " 'without',\n",
       " 'taking',\n",
       " 'speed',\n",
       " 'unitedstate',\n",
       " 'guitarplayer',\n",
       " 'smart',\n",
       " 'crap',\n",
       " 'calendar',\n",
       " 'event',\n",
       " 'user',\n",
       " 'icloud',\n",
       " 'angry',\n",
       " 'keeps',\n",
       " 'ever',\n",
       " 'since',\n",
       " 'team',\n",
       " 'trying',\n",
       " 'wouldnt',\n",
       " 'small',\n",
       " 'blue',\n",
       " '—',\n",
       " 'steemit',\n",
       " 'try',\n",
       " 'bug',\n",
       " 'sonylens',\n",
       " 'lens',\n",
       " 'sonyphotography',\n",
       " 'image',\n",
       " 'images',\n",
       " 'photofeed',\n",
       " 'feed',\n",
       " 'yeah',\n",
       " 'gorgeous',\n",
       " 'ig',\n",
       " 'orange',\n",
       " 'haha',\n",
       " 'dress',\n",
       " 'lock',\n",
       " 'reallyreal',\n",
       " 'college',\n",
       " 'true',\n",
       " 'chocolate',\n",
       " 'shit',\n",
       " 'nofilter',\n",
       " 'drink',\n",
       " 'purple',\n",
       " 'tasty',\n",
       " 'garden',\n",
       " 'cars',\n",
       " 'андроид',\n",
       " 'guys',\n",
       " 'bestprice',\n",
       " 'jun',\n",
       " 'unlock',\n",
       " 'cause',\n",
       " 'mommy',\n",
       " 'blessed',\n",
       " 'could',\n",
       " 'chinese',\n",
       " 'system',\n",
       " 'morning',\n",
       " 'nike',\n",
       " 'goodmorning',\n",
       " 'r',\n",
       " 'imac',\n",
       " 'date',\n",
       " 'years',\n",
       " 'mad',\n",
       " 'purpose',\n",
       " 'paris',\n",
       " 'rolling',\n",
       " 'verizon',\n",
       " 'marketing',\n",
       " 'headphones',\n",
       " 'show',\n",
       " 'sound',\n",
       " 'italy',\n",
       " 'socialmedia',\n",
       " 'learn',\n",
       " 'tomorrow',\n",
       " 'tried',\n",
       " 'heres',\n",
       " 'delicious',\n",
       " 'far',\n",
       " 'away',\n",
       " 'ebay',\n",
       " 'fix',\n",
       " 'easy',\n",
       " 'silver',\n",
       " 'oneplus',\n",
       " 'experience',\n",
       " 'flag',\n",
       " 'emoji',\n",
       " 'change',\n",
       " 'al',\n",
       " 'april',\n",
       " 'man',\n",
       " 'wanna',\n",
       " 'youre',\n",
       " 'kids',\n",
       " 'using',\n",
       " 'upgrade',\n",
       " 'people',\n",
       " 'word',\n",
       " 'friend',\n",
       " 'dad',\n",
       " 'anyone',\n",
       " 'else',\n",
       " 'block',\n",
       " 'numbers',\n",
       " 'bro',\n",
       " 'rhymes',\n",
       " 'start',\n",
       " 'rhyme',\n",
       " 'fixed',\n",
       " 'thx',\n",
       " 'jailbreak',\n",
       " 'igdaily',\n",
       " 'healthy',\n",
       " 'ugh',\n",
       " 'loving',\n",
       " 'feature',\n",
       " 'x',\n",
       " 'bc',\n",
       " 'cases',\n",
       " 'gratitude',\n",
       " 'edge',\n",
       " 'wow',\n",
       " 'sonyphotos',\n",
       " 'sonyphoto',\n",
       " 'top',\n",
       " 'takes',\n",
       " 'phonecase',\n",
       " 'june',\n",
       " 'sad',\n",
       " 'yellow',\n",
       " 'woman',\n",
       " 'might',\n",
       " 'india',\n",
       " 'canada',\n",
       " 'europe',\n",
       " 'charging',\n",
       " 'tell',\n",
       " 'galaxys',\n",
       " 'super',\n",
       " 'maps',\n",
       " 'applestore',\n",
       " 'says',\n",
       " 'hello',\n",
       " 'order',\n",
       " 'sent',\n",
       " 'went',\n",
       " 'likelike',\n",
       " 'running',\n",
       " 'wasnt',\n",
       " 'fans',\n",
       " 'insta',\n",
       " 'newphone',\n",
       " 'london',\n",
       " 'vsco',\n",
       " 'finger',\n",
       " 'anymore',\n",
       " 'future',\n",
       " 'cell',\n",
       " 'girls',\n",
       " 'playing',\n",
       " 'cats',\n",
       " 'instalike',\n",
       " 'sony…',\n",
       " 'march',\n",
       " 'proud',\n",
       " 'restore',\n",
       " 'hateiphones',\n",
       " 'enjoy',\n",
       " 'stickers',\n",
       " 'vscocam',\n",
       " 'waiting',\n",
       " 'better',\n",
       " 'kiss',\n",
       " 'hearts',\n",
       " 'fresh',\n",
       " 'library',\n",
       " 'inlove',\n",
       " 'luxury',\n",
       " 'pcs',\n",
       " 'exquisite',\n",
       " 'squishy',\n",
       " 'charm',\n",
       " 'straps',\n",
       " 'toys',\n",
       " 'decor',\n",
       " 'sales',\n",
       " 'cake',\n",
       " 'theyre',\n",
       " 'lte',\n",
       " 'facebook',\n",
       " 'winning',\n",
       " 'wiped',\n",
       " 'coming',\n",
       " 'humanity',\n",
       " 'fitness',\n",
       " 'sports',\n",
       " 'storage',\n",
       " 'shitty',\n",
       " 'weeks',\n",
       " 'switch',\n",
       " 'seeing',\n",
       " 'blonde',\n",
       " 'teamandroid',\n",
       " 'da',\n",
       " 'ly',\n",
       " 'flowers',\n",
       " 'lion',\n",
       " 'steve',\n",
       " 'jobs',\n",
       " 'also',\n",
       " 'feel',\n",
       " 'ill',\n",
       " 'osx',\n",
       " 'holiday',\n",
       " 'miss',\n",
       " 'couple',\n",
       " 'favorite',\n",
       " 'gadget',\n",
       " 'newtoy',\n",
       " 'nascar',\n",
       " 'tired',\n",
       " 'apparently',\n",
       " 'ago',\n",
       " 'zeeland',\n",
       " 'appletv',\n",
       " 'said',\n",
       " 'meet',\n",
       " 'smiles',\n",
       " 'link',\n",
       " 'code',\n",
       " 'tshirt',\n",
       " 'tbt',\n",
       " 'boys',\n",
       " 'beats',\n",
       " 'problems',\n",
       " 'videogames',\n",
       " 'second',\n",
       " 'sunny',\n",
       " 'nikon',\n",
       " 'deleting',\n",
       " 'useless',\n",
       " 'boyfriend',\n",
       " 'weekend',\n",
       " 'japan',\n",
       " 'starbucks',\n",
       " 'almost',\n",
       " 'applesucks',\n",
       " 'bye',\n",
       " 'search',\n",
       " 'dinner',\n",
       " 'discount',\n",
       " 'ordered',\n",
       " 'bluetooth',\n",
       " 'looking',\n",
       " 'inch',\n",
       " 'wireless',\n",
       " 'data',\n",
       " 'spent',\n",
       " 'bring',\n",
       " 'puppy',\n",
       " 'vacation',\n",
       " 'redbubble',\n",
       " 'toy',\n",
       " 'king',\n",
       " 'yo',\n",
       " 'left',\n",
       " 'whats',\n",
       " 'yesterday',\n",
       " 'maybe',\n",
       " 'visit',\n",
       " 'trump',\n",
       " 'products',\n",
       " 'guy',\n",
       " 'number',\n",
       " 'bestfriend',\n",
       " 'california',\n",
       " 'reposting',\n",
       " 'samsungmobile',\n",
       " 'gone',\n",
       " 'social',\n",
       " 'break',\n",
       " 'trip',\n",
       " 'slow',\n",
       " 'rain',\n",
       " 'wtf',\n",
       " 'anything',\n",
       " 'cuz',\n",
       " 'movie',\n",
       " 'hd',\n",
       " 'microsoft',\n",
       " 'applewatch',\n",
       " 'dj',\n",
       " 'crashing',\n",
       " 'gonna',\n",
       " 'entire',\n",
       " 'part',\n",
       " 'heart',\n",
       " 'saying',\n",
       " 'k',\n",
       " 'gotta',\n",
       " 'eat',\n",
       " 'walk',\n",
       " 'explore',\n",
       " 'outdoors',\n",
       " 'house',\n",
       " 'different',\n",
       " 'room',\n",
       " 'brother',\n",
       " 'rs',\n",
       " 'piano',\n",
       " 'v',\n",
       " 'thankyou',\n",
       " 'happened',\n",
       " 'surprise',\n",
       " 'delivery',\n",
       " 'message',\n",
       " 'vocation',\n",
       " 'thailand',\n",
       " 'khaoko',\n",
       " 'ilce',\n",
       " 'snapspeed…',\n",
       " 'merry',\n",
       " 'smartphones',\n",
       " 'minutes',\n",
       " 'htc',\n",
       " 'release',\n",
       " 'online',\n",
       " 'psn',\n",
       " 'flash',\n",
       " '•',\n",
       " 'tagsforlikes',\n",
       " 'cracked',\n",
       " 'collection',\n",
       " 'stuck',\n",
       " 'planet',\n",
       " 'instalove',\n",
       " 'men',\n",
       " 'receive',\n",
       " 'followfollow',\n",
       " 'headphone',\n",
       " 'latest',\n",
       " 'console',\n",
       " 'blogger',\n",
       " 'skins',\n",
       " 'choose',\n",
       " 'model',\n",
       " 'unique',\n",
       " 'piece',\n",
       " 'lot',\n",
       " 'making',\n",
       " 'security',\n",
       " 'questions',\n",
       " 'mother',\n",
       " 'princess',\n",
       " 'dream',\n",
       " 'wants',\n",
       " 'mind',\n",
       " 'miami',\n",
       " 'thankful',\n",
       " 'ipods',\n",
       " 'sell',\n",
       " 'tuesday',\n",
       " 'f',\n",
       " 'idea',\n",
       " 'fb',\n",
       " 'omg',\n",
       " ...]"
      ]
     },
     "execution_count": 37,
     "metadata": {},
     "output_type": "execute_result"
    }
   ],
   "source": [
    "tokens"
   ]
  },
  {
   "cell_type": "code",
   "execution_count": 38,
   "id": "b1772412-3a0e-48c5-9cd8-a6d8a49abf4c",
   "metadata": {},
   "outputs": [],
   "source": [
    "def save_vocabulary(lines, filename):\n",
    "    data = '\\n'.join(lines)\n",
    "    file = open(filename, 'w', encoding=\"utf-8\")\n",
    "    file.write(data)\n",
    "    file.close()\n",
    "\n",
    "save_vocabulary(tokens, '../static/model/vocabulary.txt')"
   ]
  },
  {
   "cell_type": "markdown",
   "id": "2d0ec026-7215-416f-8900-48d3e59be3cd",
   "metadata": {},
   "source": [
    "### Divide dataset"
   ]
  },
  {
   "cell_type": "code",
   "execution_count": 39,
   "id": "c6dac6d5-034f-4b30-8d76-b3aa32105bc9",
   "metadata": {},
   "outputs": [],
   "source": [
    "X = data['tweet']\n",
    "y = data['label']"
   ]
  },
  {
   "cell_type": "code",
   "execution_count": 40,
   "id": "088c4768-48b1-4e3f-bd11-3bc74431d491",
   "metadata": {},
   "outputs": [
    {
     "name": "stdout",
     "output_type": "stream",
     "text": [
      "Requirement already satisfied: scikit-learn in c:\\users\\kusha\\onedrive\\desktop\\sentiment_analysis_project\\env\\lib\\site-packages (1.5.0)\n",
      "Requirement already satisfied: numpy>=1.19.5 in c:\\users\\kusha\\onedrive\\desktop\\sentiment_analysis_project\\env\\lib\\site-packages (from scikit-learn) (2.0.0)\n",
      "Requirement already satisfied: scipy>=1.6.0 in c:\\users\\kusha\\onedrive\\desktop\\sentiment_analysis_project\\env\\lib\\site-packages (from scikit-learn) (1.14.0)\n",
      "Requirement already satisfied: joblib>=1.2.0 in c:\\users\\kusha\\onedrive\\desktop\\sentiment_analysis_project\\env\\lib\\site-packages (from scikit-learn) (1.4.2)\n",
      "Requirement already satisfied: threadpoolctl>=3.1.0 in c:\\users\\kusha\\onedrive\\desktop\\sentiment_analysis_project\\env\\lib\\site-packages (from scikit-learn) (3.5.0)\n"
     ]
    }
   ],
   "source": [
    "!pip install scikit-learn"
   ]
  },
  {
   "cell_type": "code",
   "execution_count": 41,
   "id": "458b3d49-96fa-4220-8886-64f31aabe68d",
   "metadata": {},
   "outputs": [],
   "source": [
    "from sklearn.model_selection import train_test_split\n",
    "X_train, X_test, y_train, y_test = train_test_split(X, y, test_size=0.2)"
   ]
  },
  {
   "cell_type": "code",
   "execution_count": 42,
   "id": "074af576-7154-4e6f-a087-f2b5ba22cd06",
   "metadata": {},
   "outputs": [
    {
     "data": {
      "text/plain": [
       "4136           taxi rhymes e ye je mi ne use rhyme iphone\n",
       "7225    phone ever stops working good luck apple youju...\n",
       "7414    twin blasts reported brussels news photography...\n",
       "3456    way going turn okay black panther eats spiderm...\n",
       "1449    like got new macbook months ago bring new gold...\n",
       "                              ...                        \n",
       "4965    wow samsung started rolling ics update galaxyn...\n",
       "4121    former google apple exec teaches stanford stud...\n",
       "968     happiness new gadget gift fromm brotherinlaw s...\n",
       "433     use iphone htcuk one goes th repair hopefully ...\n",
       "2707    wonder samsung live laugh life wonder instago ...\n",
       "Name: tweet, Length: 6336, dtype: object"
      ]
     },
     "execution_count": 42,
     "metadata": {},
     "output_type": "execute_result"
    }
   ],
   "source": [
    "X_train"
   ]
  },
  {
   "cell_type": "code",
   "execution_count": 43,
   "id": "cb051083-c24b-480e-aa89-02278aa43efa",
   "metadata": {},
   "outputs": [
    {
     "data": {
      "text/plain": [
       "2197    batman rescue rt laurencopeland thank god peop...\n",
       "5265    yeah new phone samsung galaxy advance white fo...\n",
       "6626    green arrow double exposure … via redbubble re...\n",
       "2276    follow instagram please dailyquootes fashion q...\n",
       "1201    mind taken captive dreams one day awake beauty...\n",
       "                              ...                        \n",
       "570     aliciamamo manage dropped mine week ago broke ...\n",
       "1271    still security updates apple safari regarding ...\n",
       "1962    trump attacks “mexican” us federal judge news ...\n",
       "2828    would drop two week old iphone pumpkin patch t...\n",
       "1359    new partner samsunggalaxynote samsung mobile p...\n",
       "Name: tweet, Length: 1584, dtype: object"
      ]
     },
     "execution_count": 43,
     "metadata": {},
     "output_type": "execute_result"
    }
   ],
   "source": [
    "X_test"
   ]
  },
  {
   "cell_type": "code",
   "execution_count": 44,
   "id": "0fd65f5b-5a34-4642-a60f-7e4cf85616e5",
   "metadata": {},
   "outputs": [
    {
     "data": {
      "text/plain": [
       "4136    0\n",
       "7225    1\n",
       "7414    0\n",
       "3456    0\n",
       "1449    1\n",
       "       ..\n",
       "4965    0\n",
       "4121    0\n",
       "968     0\n",
       "433     1\n",
       "2707    0\n",
       "Name: label, Length: 6336, dtype: int64"
      ]
     },
     "execution_count": 44,
     "metadata": {},
     "output_type": "execute_result"
    }
   ],
   "source": [
    "y_train"
   ]
  },
  {
   "cell_type": "markdown",
   "id": "efd11a5b-d1b7-4802-b098-f232f9939d97",
   "metadata": {},
   "source": [
    "### Vectorization"
   ]
  },
  {
   "cell_type": "code",
   "execution_count": 45,
   "id": "478670d8-0943-4be5-886e-533a330b0fd4",
   "metadata": {},
   "outputs": [],
   "source": [
    "def vectorizer(ds, vocabulary):\n",
    "    vectorized_lst = []\n",
    "    \n",
    "    for sentence in ds:\n",
    "        sentence_lst = np.zeros(len(vocabulary))\n",
    "        \n",
    "        for i in range(len(vocabulary)):\n",
    "            if vocabulary[i] in sentence.split():\n",
    "                sentence_lst[i] = 1\n",
    "                \n",
    "        vectorized_lst.append(sentence_lst)\n",
    "        \n",
    "    vectorized_lst_new = np.asarray(vectorized_lst, dtype=np.float32)\n",
    "    \n",
    "    return vectorized_lst_new"
   ]
  },
  {
   "cell_type": "code",
   "execution_count": 46,
   "id": "b2e74871-744e-433b-9444-b00e65ba7f95",
   "metadata": {},
   "outputs": [],
   "source": [
    "vectorized_x_train = vectorizer(X_train, tokens)"
   ]
  },
  {
   "cell_type": "code",
   "execution_count": 47,
   "id": "cd0445db-40ef-4950-9efe-e060be2416b4",
   "metadata": {},
   "outputs": [],
   "source": [
    "vectorized_x_test = vectorizer(X_test, tokens)"
   ]
  },
  {
   "cell_type": "code",
   "execution_count": 48,
   "id": "e26524ff-045c-41db-8084-05d5e5e90491",
   "metadata": {},
   "outputs": [
    {
     "data": {
      "text/plain": [
       "array([[0., 0., 0., ..., 0., 1., 0.],\n",
       "       [0., 0., 0., ..., 0., 0., 0.],\n",
       "       [0., 0., 0., ..., 0., 0., 0.],\n",
       "       ...,\n",
       "       [0., 0., 0., ..., 0., 0., 0.],\n",
       "       [0., 0., 0., ..., 0., 0., 0.],\n",
       "       [0., 0., 0., ..., 0., 0., 0.]], dtype=float32)"
      ]
     },
     "execution_count": 48,
     "metadata": {},
     "output_type": "execute_result"
    }
   ],
   "source": [
    "vectorized_x_train"
   ]
  },
  {
   "cell_type": "code",
   "execution_count": 49,
   "id": "c9b398d6-189c-47a0-b5ce-4e096cd286c1",
   "metadata": {},
   "outputs": [
    {
     "data": {
      "text/plain": [
       "4136    0\n",
       "7225    1\n",
       "7414    0\n",
       "3456    0\n",
       "1449    1\n",
       "       ..\n",
       "4965    0\n",
       "4121    0\n",
       "968     0\n",
       "433     1\n",
       "2707    0\n",
       "Name: label, Length: 6336, dtype: int64"
      ]
     },
     "execution_count": 49,
     "metadata": {},
     "output_type": "execute_result"
    }
   ],
   "source": [
    "y_train"
   ]
  },
  {
   "cell_type": "code",
   "execution_count": 50,
   "id": "055cc326-21d5-4e80-81f4-4fc3d17eb97f",
   "metadata": {},
   "outputs": [
    {
     "data": {
      "text/plain": [
       "array([[0., 0., 0., ..., 0., 0., 0.],\n",
       "       [0., 0., 0., ..., 0., 0., 0.],\n",
       "       [0., 0., 0., ..., 0., 0., 0.],\n",
       "       ...,\n",
       "       [0., 0., 0., ..., 0., 0., 0.],\n",
       "       [0., 0., 0., ..., 0., 0., 0.],\n",
       "       [0., 0., 0., ..., 0., 0., 0.]], dtype=float32)"
      ]
     },
     "execution_count": 50,
     "metadata": {},
     "output_type": "execute_result"
    }
   ],
   "source": [
    "vectorized_x_test"
   ]
  },
  {
   "cell_type": "code",
   "execution_count": 51,
   "id": "3d03f567-6657-4e68-a1c6-879fe025cd8c",
   "metadata": {},
   "outputs": [
    {
     "data": {
      "text/plain": [
       "2197    0\n",
       "5265    0\n",
       "6626    0\n",
       "2276    0\n",
       "1201    0\n",
       "       ..\n",
       "570     1\n",
       "1271    1\n",
       "1962    1\n",
       "2828    1\n",
       "1359    0\n",
       "Name: label, Length: 1584, dtype: int64"
      ]
     },
     "execution_count": 51,
     "metadata": {},
     "output_type": "execute_result"
    }
   ],
   "source": [
    "y_test"
   ]
  },
  {
   "cell_type": "code",
   "execution_count": 52,
   "id": "c1a1b31f-2d95-4fb7-a24a-c55b583585e1",
   "metadata": {},
   "outputs": [
    {
     "data": {
      "text/plain": [
       "label\n",
       "0    4726\n",
       "1    1610\n",
       "Name: count, dtype: int64"
      ]
     },
     "execution_count": 52,
     "metadata": {},
     "output_type": "execute_result"
    }
   ],
   "source": [
    "y_train.value_counts()"
   ]
  },
  {
   "cell_type": "code",
   "execution_count": 53,
   "id": "3e9efdde-86eb-48c0-97ec-2dc38def3701",
   "metadata": {},
   "outputs": [
    {
     "data": {
      "image/png": "[encoded data removed]",
      "text/plain": [
       "<Figure size 640x480 with 1 Axes>"
      ]
     },
     "metadata": {},
     "output_type": "display_data"
    }
   ],
   "source": [
    "plt.pie(np.array([y_train.value_counts()[0], y_train.value_counts()[1]]), labels=['Positive', 'Negative'])\n",
    "plt.show()"
   ]
  },
  {
   "cell_type": "markdown",
   "id": "b9dc2e54-dacd-4d67-93e7-6331a646f41e",
   "metadata": {},
   "source": [
    "### Handle imbalanced dataset"
   ]
  },
  {
   "cell_type": "code",
   "execution_count": 54,
   "id": "aa50dce3-7ff0-41a1-a410-cc577eba3e71",
   "metadata": {},
   "outputs": [
    {
     "name": "stdout",
     "output_type": "stream",
     "text": [
      "Requirement already satisfied: imbalanced-learn in c:\\users\\kusha\\onedrive\\desktop\\sentiment_analysis_project\\env\\lib\\site-packages (0.12.3)\n",
      "Requirement already satisfied: numpy>=1.17.3 in c:\\users\\kusha\\onedrive\\desktop\\sentiment_analysis_project\\env\\lib\\site-packages (from imbalanced-learn) (2.0.0)\n",
      "Requirement already satisfied: scipy>=1.5.0 in c:\\users\\kusha\\onedrive\\desktop\\sentiment_analysis_project\\env\\lib\\site-packages (from imbalanced-learn) (1.14.0)\n",
      "Requirement already satisfied: scikit-learn>=1.0.2 in c:\\users\\kusha\\onedrive\\desktop\\sentiment_analysis_project\\env\\lib\\site-packages (from imbalanced-learn) (1.5.0)\n",
      "Requirement already satisfied: joblib>=1.1.1 in c:\\users\\kusha\\onedrive\\desktop\\sentiment_analysis_project\\env\\lib\\site-packages (from imbalanced-learn) (1.4.2)\n",
      "Requirement already satisfied: threadpoolctl>=2.0.0 in c:\\users\\kusha\\onedrive\\desktop\\sentiment_analysis_project\\env\\lib\\site-packages (from imbalanced-learn) (3.5.0)\n"
     ]
    }
   ],
   "source": [
    "!pip install imbalanced-learn"
   ]
  },
  {
   "cell_type": "code",
   "execution_count": 55,
   "id": "c58dc9e1-30b8-426e-9ac9-31c166d90db8",
   "metadata": {},
   "outputs": [
    {
     "name": "stdout",
     "output_type": "stream",
     "text": [
      "(9452, 1156) (9452,)\n"
     ]
    }
   ],
   "source": [
    "from imblearn.over_sampling import SMOTE\n",
    "smote = SMOTE()\n",
    "vectorized_x_train_smote, y_train_smote = smote.fit_resample(vectorized_x_train, y_train)\n",
    "print(vectorized_x_train_smote.shape, y_train_smote.shape)"
   ]
  },
  {
   "cell_type": "code",
   "execution_count": 56,
   "id": "b7167f52-02af-47fa-a2a6-92df76b9941a",
   "metadata": {},
   "outputs": [
    {
     "data": {
      "text/plain": [
       "label\n",
       "0    4726\n",
       "1    4726\n",
       "Name: count, dtype: int64"
      ]
     },
     "execution_count": 56,
     "metadata": {},
     "output_type": "execute_result"
    }
   ],
   "source": [
    "y_train_smote.value_counts()"
   ]
  },
  {
   "cell_type": "code",
   "execution_count": 57,
   "id": "a588503e-4ee4-4c1e-b2b6-ef39a75d09f6",
   "metadata": {},
   "outputs": [
    {
     "data": {
      "image/png": "[encoded data removed]",
      "text/plain": [
       "<Figure size 640x480 with 1 Axes>"
      ]
     },
     "metadata": {},
     "output_type": "display_data"
    }
   ],
   "source": [
    "plt.pie(np.array([y_train_smote.value_counts()[0], y_train_smote.value_counts()[1]]), labels=['Positive', 'Negative'])\n",
    "plt.show()"
   ]
  },
  {
   "cell_type": "code",
   "execution_count": 58,
   "id": "b906bec8-7575-4453-86a8-50a5ac1fd528",
   "metadata": {},
   "outputs": [
    {
     "data": {
      "text/plain": [
       "array([[0.        , 0.        , 0.        , ..., 0.        , 1.        ,\n",
       "        0.        ],\n",
       "       [0.        , 0.        , 0.        , ..., 0.        , 0.        ,\n",
       "        0.        ],\n",
       "       [0.        , 0.        , 0.        , ..., 0.        , 0.        ,\n",
       "        0.        ],\n",
       "       ...,\n",
       "       [0.        , 0.        , 0.        , ..., 0.        , 0.        ,\n",
       "        0.        ],\n",
       "       [0.        , 0.        , 0.        , ..., 0.        , 0.        ,\n",
       "        0.        ],\n",
       "       [0.22068602, 0.        , 0.        , ..., 0.        , 0.        ,\n",
       "        0.        ]], dtype=float32)"
      ]
     },
     "execution_count": 58,
     "metadata": {},
     "output_type": "execute_result"
    }
   ],
   "source": [
    "vectorized_x_train_smote"
   ]
  },
  {
   "cell_type": "code",
   "execution_count": 59,
   "id": "446b4189-0a91-4034-bf18-d33f67de74f1",
   "metadata": {},
   "outputs": [
    {
     "data": {
      "text/plain": [
       "0       0\n",
       "1       1\n",
       "2       0\n",
       "3       0\n",
       "4       1\n",
       "       ..\n",
       "9447    1\n",
       "9448    1\n",
       "9449    1\n",
       "9450    1\n",
       "9451    1\n",
       "Name: label, Length: 9452, dtype: int64"
      ]
     },
     "execution_count": 59,
     "metadata": {},
     "output_type": "execute_result"
    }
   ],
   "source": [
    "y_train_smote"
   ]
  },
  {
   "cell_type": "code",
   "execution_count": 60,
   "id": "8b081a7a-0547-43e9-bbeb-818384f40222",
   "metadata": {},
   "outputs": [
    {
     "data": {
      "text/plain": [
       "array([[0., 0., 0., ..., 0., 0., 0.],\n",
       "       [0., 0., 0., ..., 0., 0., 0.],\n",
       "       [0., 0., 0., ..., 0., 0., 0.],\n",
       "       ...,\n",
       "       [0., 0., 0., ..., 0., 0., 0.],\n",
       "       [0., 0., 0., ..., 0., 0., 0.],\n",
       "       [0., 0., 0., ..., 0., 0., 0.]], dtype=float32)"
      ]
     },
     "execution_count": 60,
     "metadata": {},
     "output_type": "execute_result"
    }
   ],
   "source": [
    "vectorized_x_test"
   ]
  },
  {
   "cell_type": "code",
   "execution_count": 61,
   "id": "e1554d19-ed82-41a2-9c4a-63b9286fbe3e",
   "metadata": {},
   "outputs": [
    {
     "data": {
      "text/plain": [
       "2197    0\n",
       "5265    0\n",
       "6626    0\n",
       "2276    0\n",
       "1201    0\n",
       "       ..\n",
       "570     1\n",
       "1271    1\n",
       "1962    1\n",
       "2828    1\n",
       "1359    0\n",
       "Name: label, Length: 1584, dtype: int64"
      ]
     },
     "execution_count": 61,
     "metadata": {},
     "output_type": "execute_result"
    }
   ],
   "source": [
    "y_test"
   ]
  },
  {
   "cell_type": "markdown",
   "id": "439678c8-20c9-4047-b9a5-0ad8f97b1a8a",
   "metadata": {},
   "source": [
    "### Model Training and Evaluation"
   ]
  },
  {
   "cell_type": "code",
   "execution_count": 62,
   "id": "339cf58b-5107-4072-b129-9e74821444cc",
   "metadata": {},
   "outputs": [],
   "source": [
    "from sklearn.linear_model import LogisticRegression\n",
    "from sklearn.naive_bayes import MultinomialNB\n",
    "from sklearn.tree import DecisionTreeClassifier\n",
    "from sklearn.ensemble import RandomForestClassifier\n",
    "from sklearn.svm import SVC"
   ]
  },
  {
   "cell_type": "code",
   "execution_count": 63,
   "id": "2f044ba3-15b9-4c0d-8e8e-aa805979aa38",
   "metadata": {},
   "outputs": [],
   "source": [
    "from sklearn.metrics import accuracy_score, f1_score, precision_score, recall_score\n",
    "\n",
    "def training_scores(y_act, y_pred):\n",
    "    acc = round(accuracy_score(y_act, y_pred), 3)\n",
    "    pr = round(precision_score(y_act, y_pred), 3)\n",
    "    rec = round(recall_score(y_act, y_pred), 3)\n",
    "    f1 = round(f1_score(y_act, y_pred), 3)\n",
    "    print(f'Training Scores:\\n\\tAccuracy = {acc}\\n\\tPrecision = {pr}\\n\\tRecall = {rec}\\n\\tF1-Score = {f1}')\n",
    "    \n",
    "def validation_scores(y_act, y_pred):\n",
    "    acc = round(accuracy_score(y_act, y_pred), 3)\n",
    "    pr = round(precision_score(y_act, y_pred), 3)\n",
    "    rec = round(recall_score(y_act, y_pred), 3)\n",
    "    f1 = round(f1_score(y_act, y_pred), 3)\n",
    "    print(f'Testing Scores:\\n\\tAccuracy = {acc}\\n\\tPrecision = {pr}\\n\\tRecall = {rec}\\n\\tF1-Score = {f1}')"
   ]
  },
  {
   "cell_type": "markdown",
   "id": "9e87f4bb-2c7f-40fd-8d50-80141a646595",
   "metadata": {},
   "source": [
    "### Logistic Regression"
   ]
  },
  {
   "cell_type": "code",
   "execution_count": 64,
   "id": "f347b970-7970-4cf5-ab1e-f193d43210c7",
   "metadata": {},
   "outputs": [
    {
     "name": "stdout",
     "output_type": "stream",
     "text": [
      "Training Scores:\n",
      "\tAccuracy = 0.938\n",
      "\tPrecision = 0.91\n",
      "\tRecall = 0.972\n",
      "\tF1-Score = 0.94\n",
      "Testing Scores:\n",
      "\tAccuracy = 0.864\n",
      "\tPrecision = 0.694\n",
      "\tRecall = 0.863\n",
      "\tF1-Score = 0.77\n"
     ]
    }
   ],
   "source": [
    "lr = LogisticRegression()\n",
    "lr.fit(vectorized_x_train_smote, y_train_smote)\n",
    "\n",
    "y_train_pred = lr.predict(vectorized_x_train_smote)\n",
    "\n",
    "y_test_pred = lr.predict(vectorized_x_test)\n",
    "\n",
    "training_scores(y_train_smote, y_train_pred)\n",
    "\n",
    "validation_scores(y_test, y_test_pred)"
   ]
  },
  {
   "cell_type": "markdown",
   "id": "b212e900-a914-4baf-ad98-23071d99b4ea",
   "metadata": {},
   "source": [
    "### Naive Bayes"
   ]
  },
  {
   "cell_type": "code",
   "execution_count": 65,
   "id": "2f518eac-1943-4c61-8cd1-1911119bc870",
   "metadata": {},
   "outputs": [
    {
     "name": "stdout",
     "output_type": "stream",
     "text": [
      "Training Scores:\n",
      "\tAccuracy = 0.903\n",
      "\tPrecision = 0.865\n",
      "\tRecall = 0.955\n",
      "\tF1-Score = 0.908\n",
      "Testing Scores:\n",
      "\tAccuracy = 0.857\n",
      "\tPrecision = 0.665\n",
      "\tRecall = 0.913\n",
      "\tF1-Score = 0.77\n"
     ]
    }
   ],
   "source": [
    "mnb = MultinomialNB()\n",
    "mnb.fit(vectorized_x_train_smote, y_train_smote)\n",
    "\n",
    "y_train_pred = mnb.predict(vectorized_x_train_smote)\n",
    "\n",
    "y_test_pred = mnb.predict(vectorized_x_test)\n",
    "\n",
    "training_scores(y_train_smote, y_train_pred)\n",
    "\n",
    "validation_scores(y_test, y_test_pred)"
   ]
  },
  {
   "cell_type": "markdown",
   "id": "65371cf6-6096-4903-8014-7f789c7b753f",
   "metadata": {},
   "source": [
    "### Decision Tree"
   ]
  },
  {
   "cell_type": "code",
   "execution_count": 66,
   "id": "7accdf93-aa54-4978-bc58-a74161afdb18",
   "metadata": {},
   "outputs": [
    {
     "name": "stdout",
     "output_type": "stream",
     "text": [
      "Training Scores:\n",
      "\tAccuracy = 0.999\n",
      "\tPrecision = 1.0\n",
      "\tRecall = 0.999\n",
      "\tF1-Score = 0.999\n",
      "Testing Scores:\n",
      "\tAccuracy = 0.814\n",
      "\tPrecision = 0.648\n",
      "\tRecall = 0.642\n",
      "\tF1-Score = 0.645\n"
     ]
    }
   ],
   "source": [
    "dt = DecisionTreeClassifier()\n",
    "\n",
    "dt.fit(vectorized_x_train_smote, y_train_smote)\n",
    "\n",
    "y_train_pred = dt.predict(vectorized_x_train_smote)\n",
    "\n",
    "y_test_pred = dt.predict(vectorized_x_test)\n",
    "\n",
    "training_scores(y_train_smote, y_train_pred)\n",
    "\n",
    "validation_scores(y_test, y_test_pred)"
   ]
  },
  {
   "cell_type": "markdown",
   "id": "f85dea9c-543f-4bb0-83da-7bd87445e06e",
   "metadata": {},
   "source": [
    "### Random Forest"
   ]
  },
  {
   "cell_type": "code",
   "execution_count": 67,
   "id": "d2acee96-0bdf-41b0-9795-1a13242a267a",
   "metadata": {},
   "outputs": [
    {
     "name": "stdout",
     "output_type": "stream",
     "text": [
      "Training Scores:\n",
      "\tAccuracy = 0.999\n",
      "\tPrecision = 0.999\n",
      "\tRecall = 1.0\n",
      "\tF1-Score = 0.999\n",
      "Testing Scores:\n",
      "\tAccuracy = 0.852\n",
      "\tPrecision = 0.717\n",
      "\tRecall = 0.724\n",
      "\tF1-Score = 0.72\n"
     ]
    }
   ],
   "source": [
    "rf = RandomForestClassifier()\n",
    "\n",
    "rf.fit(vectorized_x_train_smote, y_train_smote)\n",
    "\n",
    "y_train_pred = rf.predict(vectorized_x_train_smote)\n",
    "\n",
    "y_test_pred = rf.predict(vectorized_x_test)\n",
    "\n",
    "training_scores(y_train_smote, y_train_pred)\n",
    "\n",
    "validation_scores(y_test, y_test_pred)"
   ]
  },
  {
   "cell_type": "markdown",
   "id": "db9ff335-32b9-4a80-a13d-31b204c4cf3d",
   "metadata": {},
   "source": [
    "### Support Vector Machine"
   ]
  },
  {
   "cell_type": "code",
   "execution_count": 68,
   "id": "7a73ed0a-1d67-4a56-8320-41a3066938f4",
   "metadata": {},
   "outputs": [
    {
     "name": "stdout",
     "output_type": "stream",
     "text": [
      "Training Scores:\n",
      "\tAccuracy = 0.974\n",
      "\tPrecision = 0.955\n",
      "\tRecall = 0.995\n",
      "\tF1-Score = 0.975\n",
      "Testing Scores:\n",
      "\tAccuracy = 0.863\n",
      "\tPrecision = 0.716\n",
      "\tRecall = 0.793\n",
      "\tF1-Score = 0.753\n"
     ]
    }
   ],
   "source": [
    "svm = SVC()\n",
    "\n",
    "svm.fit(vectorized_x_train_smote, y_train_smote)\n",
    "\n",
    "y_train_pred = svm.predict(vectorized_x_train_smote)\n",
    "\n",
    "y_test_pred = svm.predict(vectorized_x_test)\n",
    "\n",
    "training_scores(y_train_smote, y_train_pred)\n",
    "\n",
    "validation_scores(y_test, y_test_pred)"
   ]
  },
  {
   "cell_type": "code",
   "execution_count": 69,
   "id": "7f614b12-fa35-41a8-97f4-8ca7df282418",
   "metadata": {},
   "outputs": [],
   "source": [
    "import pickle\n",
    "\n",
    "with open('../static/model/model.pickle', 'wb') as file:\n",
    "    pickle.dump(lr, file)"
   ]
  },
  {
   "cell_type": "code",
   "execution_count": null,
   "id": "7fedea30-f3b7-493c-802a-8ef169647969",
   "metadata": {},
   "outputs": [],
   "source": []
  }
 ],
 "metadata": {
  "kernelspec": {
   "display_name": "Python 3 (ipykernel)",
   "language": "python",
   "name": "python3"
  },
  "language_info": {
   "codemirror_mode": {
    "name": "ipython",
    "version": 3
   },
   "file_extension": ".py",
   "mimetype": "text/x-python",
   "name": "python",
   "nbconvert_exporter": "python",
   "pygments_lexer": "ipython3",
   "version": "3.12.4"
  }
 },
 "nbformat": 4,
 "nbformat_minor": 5
}
